{
 "cells": [
  {
   "cell_type": "markdown",
   "metadata": {},
   "source": [
    "# Data Preprocess"
   ]
  },
  {
   "cell_type": "code",
   "execution_count": 1,
   "metadata": {},
   "outputs": [
    {
     "name": "stderr",
     "output_type": "stream",
     "text": [
      "C:\\Users\\stdso\\AppData\\Local\\Temp\\ipykernel_28072\\1723665018.py:24: FutureWarning: Series.fillna with 'method' is deprecated and will raise in a future version. Use obj.ffill() or obj.bfill() instead.\n",
      "  hpg_data['Price'].fillna(method='ffill', inplace=True)\n",
      "C:\\Users\\stdso\\AppData\\Local\\Temp\\ipykernel_28072\\1723665018.py:25: FutureWarning: Series.fillna with 'method' is deprecated and will raise in a future version. Use obj.ffill() or obj.bfill() instead.\n",
      "  mwg_data['Price'].fillna(method='ffill', inplace=True)\n"
     ]
    },
    {
     "data": {
      "text/plain": [
       "((1085, 6), (544, 6), (1085, 6), (544, 6))"
      ]
     },
     "execution_count": 1,
     "metadata": {},
     "output_type": "execute_result"
    }
   ],
   "source": [
    "import pandas as pd\n",
    "\n",
    "# Load the data\n",
    "hpg_data = pd.read_csv('HPG.csv', parse_dates=['Date'])\n",
    "mwg_data = pd.read_csv('MWG.csv', parse_dates=['Date'])\n",
    "\n",
    "# Convert 'Price' column to numeric\n",
    "hpg_data['Price'] = pd.to_numeric(hpg_data['Price'].str.replace(',', ''), errors='coerce')\n",
    "mwg_data['Price'] = pd.to_numeric(mwg_data['Price'].str.replace(',', ''), errors='coerce')\n",
    "\n",
    "# Set the 'Date' column as the index\n",
    "hpg_data.set_index('Date', inplace=True)\n",
    "mwg_data.set_index('Date', inplace=True)\n",
    "\n",
    "# Sort the index\n",
    "hpg_data.sort_index(inplace=True)\n",
    "mwg_data.sort_index(inplace=True)\n",
    "\n",
    "# Set the frequency of the index\n",
    "hpg_data = hpg_data.asfreq('B')\n",
    "mwg_data = mwg_data.asfreq('B')\n",
    "\n",
    "# Fill missing values if any (forward fill)\n",
    "hpg_data['Price'].fillna(method='ffill', inplace=True)\n",
    "mwg_data['Price'].fillna(method='ffill', inplace=True)\n",
    "\n",
    "# Split the data into training and testing sets\n",
    "train_hpg = hpg_data[:'2022-02-28']\n",
    "test_hpg = hpg_data['2022-03-01':]\n",
    "\n",
    "train_mwg = mwg_data[:'2022-02-28']\n",
    "test_mwg = mwg_data['2022-03-01':]\n",
    "\n",
    "train_hpg.shape, test_hpg.shape, train_mwg.shape, test_mwg.shape"
   ]
  },
  {
   "cell_type": "markdown",
   "metadata": {},
   "source": [
    "# ARIMA Model\n",
    "### Stationarity Test and Differencing"
   ]
  },
  {
   "cell_type": "code",
   "execution_count": 2,
   "metadata": {},
   "outputs": [
    {
     "name": "stdout",
     "output_type": "stream",
     "text": [
      "HPG ADF Test:\n",
      "ADF Statistic: -0.032357448049534145\n",
      "p-value: 0.9557729319084692\n",
      "\n",
      "MWG ADF Test:\n",
      "ADF Statistic: 0.3708115507627589\n",
      "p-value: 0.9803699650500115\n"
     ]
    }
   ],
   "source": [
    "from statsmodels.tsa.stattools import adfuller\n",
    "\n",
    "# Function to perform Dickey-Fuller test\n",
    "def adf_test(series):\n",
    "    result = adfuller(series)\n",
    "    print('ADF Statistic:', result[0])\n",
    "    print('p-value:', result[1])\n",
    "    return result[1]\n",
    "\n",
    "# Perform the test on the training data\n",
    "print(\"HPG ADF Test:\")\n",
    "hpg_p_value = adf_test(train_hpg['Price'])\n",
    "\n",
    "print(\"\\nMWG ADF Test:\")\n",
    "mwg_p_value = adf_test(train_mwg['Price'])"
   ]
  },
  {
   "cell_type": "markdown",
   "metadata": {},
   "source": [
    "### Model Training and Prediction"
   ]
  },
  {
   "cell_type": "code",
   "execution_count": 6,
   "metadata": {},
   "outputs": [
    {
     "name": "stdout",
     "output_type": "stream",
     "text": [
      "                               SARIMAX Results                                \n",
      "==============================================================================\n",
      "Dep. Variable:                  Price   No. Observations:                 1085\n",
      "Model:                 ARIMA(0, 0, 4)   Log Likelihood              -10171.019\n",
      "Date:                Thu, 30 May 2024   AIC                          20354.038\n",
      "Time:                        17:53:50   BIC                          20383.974\n",
      "Sample:                    01-02-2018   HQIC                         20365.370\n",
      "                         - 02-28-2022                                         \n",
      "Covariance Type:                  opg                                         \n",
      "==============================================================================\n",
      "                 coef    std err          z      P>|z|      [0.025      0.975]\n",
      "------------------------------------------------------------------------------\n",
      "const       1.858e+04    541.851     34.293      0.000    1.75e+04    1.96e+04\n",
      "ma.L1          1.4881      0.026     58.241      0.000       1.438       1.538\n",
      "ma.L2          1.5217      0.031     48.904      0.000       1.461       1.583\n",
      "ma.L3          1.4376      0.033     44.150      0.000       1.374       1.501\n",
      "ma.L4          0.4042      0.027     14.993      0.000       0.351       0.457\n",
      "sigma2      7.993e+06      0.825   9.69e+06      0.000    7.99e+06    7.99e+06\n",
      "===================================================================================\n",
      "Ljung-Box (L1) (Q):                  20.96   Jarque-Bera (JB):               653.79\n",
      "Prob(Q):                              0.00   Prob(JB):                         0.00\n",
      "Heteroskedasticity (H):               9.54   Skew:                             1.54\n",
      "Prob(H) (two-sided):                  0.00   Kurtosis:                         5.22\n",
      "===================================================================================\n",
      "\n",
      "Warnings:\n",
      "[1] Covariance matrix calculated using the outer product of gradients (complex-step).\n",
      "[2] Covariance matrix is singular or near-singular, with condition number 2.64e+21. Standard errors may be unstable.\n",
      "Start Index: 2022-03-01 00:00:00, End Index: 2024-03-29 00:00:00\n",
      "Train Index: DatetimeIndex(['2018-01-02', '2018-01-03', '2018-01-04', '2018-01-05',\n",
      "               '2018-01-08', '2018-01-09', '2018-01-10', '2018-01-11',\n",
      "               '2018-01-12', '2018-01-15',\n",
      "               ...\n",
      "               '2022-02-15', '2022-02-16', '2022-02-17', '2022-02-18',\n",
      "               '2022-02-21', '2022-02-22', '2022-02-23', '2022-02-24',\n",
      "               '2022-02-25', '2022-02-28'],\n",
      "              dtype='datetime64[ns]', name='Date', length=1085, freq='B')\n",
      "Test Index: DatetimeIndex(['2022-03-01', '2022-03-02', '2022-03-03', '2022-03-04',\n",
      "               '2022-03-07', '2022-03-08', '2022-03-09', '2022-03-10',\n",
      "               '2022-03-11', '2022-03-14',\n",
      "               ...\n",
      "               '2024-03-18', '2024-03-19', '2024-03-20', '2024-03-21',\n",
      "               '2024-03-22', '2024-03-25', '2024-03-26', '2024-03-27',\n",
      "               '2024-03-28', '2024-03-29'],\n",
      "              dtype='datetime64[ns]', name='Date', length=544, freq='B')\n",
      "                               SARIMAX Results                                \n",
      "==============================================================================\n",
      "Dep. Variable:                  Price   No. Observations:                 1085\n",
      "Model:                 ARIMA(0, 0, 4)   Log Likelihood              -10171.019\n",
      "Date:                Thu, 30 May 2024   AIC                          20354.038\n",
      "Time:                        17:53:52   BIC                          20383.974\n",
      "Sample:                    01-02-2018   HQIC                         20365.370\n",
      "                         - 02-28-2022                                         \n",
      "Covariance Type:                  opg                                         \n",
      "==============================================================================\n",
      "                 coef    std err          z      P>|z|      [0.025      0.975]\n",
      "------------------------------------------------------------------------------\n",
      "const       1.858e+04    541.851     34.293      0.000    1.75e+04    1.96e+04\n",
      "ma.L1          1.4881      0.026     58.241      0.000       1.438       1.538\n",
      "ma.L2          1.5217      0.031     48.904      0.000       1.461       1.583\n",
      "ma.L3          1.4376      0.033     44.150      0.000       1.374       1.501\n",
      "ma.L4          0.4042      0.027     14.993      0.000       0.351       0.457\n",
      "sigma2      7.993e+06      0.825   9.69e+06      0.000    7.99e+06    7.99e+06\n",
      "===================================================================================\n",
      "Ljung-Box (L1) (Q):                  20.96   Jarque-Bera (JB):               653.79\n",
      "Prob(Q):                              0.00   Prob(JB):                         0.00\n",
      "Heteroskedasticity (H):               9.54   Skew:                             1.54\n",
      "Prob(H) (two-sided):                  0.00   Kurtosis:                         5.22\n",
      "===================================================================================\n",
      "\n",
      "Warnings:\n",
      "[1] Covariance matrix calculated using the outer product of gradients (complex-step).\n",
      "[2] Covariance matrix is singular or near-singular, with condition number 2.64e+21. Standard errors may be unstable.\n",
      "Start Index: 2022-03-01 00:00:00, End Index: 2024-03-29 00:00:00\n",
      "Train Index: DatetimeIndex(['2018-01-02', '2018-01-03', '2018-01-04', '2018-01-05',\n",
      "               '2018-01-08', '2018-01-09', '2018-01-10', '2018-01-11',\n",
      "               '2018-01-12', '2018-01-15',\n",
      "               ...\n",
      "               '2022-02-15', '2022-02-16', '2022-02-17', '2022-02-18',\n",
      "               '2022-02-21', '2022-02-22', '2022-02-23', '2022-02-24',\n",
      "               '2022-02-25', '2022-02-28'],\n",
      "              dtype='datetime64[ns]', name='Date', length=1085, freq='B')\n",
      "Test Index: DatetimeIndex(['2022-03-01', '2022-03-02', '2022-03-03', '2022-03-04',\n",
      "               '2022-03-07', '2022-03-08', '2022-03-09', '2022-03-10',\n",
      "               '2022-03-11', '2022-03-14',\n",
      "               ...\n",
      "               '2024-03-18', '2024-03-19', '2024-03-20', '2024-03-21',\n",
      "               '2024-03-22', '2024-03-25', '2024-03-26', '2024-03-27',\n",
      "               '2024-03-28', '2024-03-29'],\n",
      "              dtype='datetime64[ns]', name='Date', length=544, freq='B')\n"
     ]
    }
   ],
   "source": [
    "from statsmodels.tsa.arima.model import ARIMA\n",
    "\n",
    "# Function to fit ARIMA model and make predictions\n",
    "def arima_model(train, test, order):\n",
    "    # Fit ARIMA model\n",
    "    model = ARIMA(train, order=order)\n",
    "    model_fit = model.fit()\n",
    "    print(model_fit.summary())\n",
    "\n",
    "    # Ensure the index format matches\n",
    "    start_index = test.index[0]\n",
    "    end_index = test.index[-1]\n",
    "    \n",
    "    # Print the index to debug\n",
    "    print(f\"Start Index: {start_index}, End Index: {end_index}\")\n",
    "    print(f\"Train Index: {train.index}\")\n",
    "    print(f\"Test Index: {test.index}\")\n",
    "\n",
    "    # Make predictions\n",
    "    predictions = model_fit.predict(start=start_index, end=end_index)\n",
    "    return predictions\n",
    "\n",
    "# Fit ARIMA model and make predictions for HPG\n",
    "hpg_predictions = arima_model(train_hpg['Price'], test_hpg['Price'], (0, 0, 4))\n",
    "\n",
    "# Fit ARIMA model and make predictions for MWG\n",
    "mwg_predictions = arima_model(train_hpg['Price'], test_hpg['Price'], (0, 0, 4))\n",
    "\n",
    "# Save predictions to CSV\n",
    "hpg_predictions.to_csv('hpg_arima_predictions.csv')\n",
    "mwg_predictions.to_csv('mwg_arima_predictions.csv')\n"
   ]
  },
  {
   "cell_type": "code",
   "execution_count": null,
   "metadata": {},
   "outputs": [],
   "source": [
    "from sklearn.metrics import mean_squared_error\n",
    "\n",
    "# Function for grid search of ARIMA parameters\n",
    "def grid_search_arima(train, test):\n",
    "    best_score, best_cfg = float(\"inf\"), None\n",
    "    for p in range(0, 7):\n",
    "        for d in range(0, 3):\n",
    "            for q in range(0, 7):\n",
    "                order = (p, d, q)\n",
    "                try:\n",
    "                    model = ARIMA(train, order=order)\n",
    "                    model_fit = model.fit()\n",
    "                    predictions = model_fit.predict(start=test.index[0], end=test.index[-1])\n",
    "                    mse = mean_squared_error(test, predictions)\n",
    "                    if mse < best_score:\n",
    "                        best_score, best_cfg = mse, order\n",
    "                    print(f\"ARIMA{order} MSE={mse}\")\n",
    "                except Exception as e:\n",
    "                    continue\n",
    "    print(f\"Best ARIMA{best_cfg} MSE={best_score}\")\n",
    "    return best_cfg\n",
    "\n",
    "# Find best ARIMA parameters for HPG\n",
    "best_order_hpg = grid_search_arima(train_hpg['Price'], test_hpg['Price'])\n",
    "\n",
    "# Find best ARIMA parameters for MWG\n",
    "best_order_mwg = grid_search_arima(train_mwg['Price'], test_mwg['Price'])"
   ]
  },
  {
   "cell_type": "markdown",
   "metadata": {},
   "source": [
    "### Evaluation"
   ]
  },
  {
   "cell_type": "code",
   "execution_count": 8,
   "metadata": {},
   "outputs": [
    {
     "name": "stdout",
     "output_type": "stream",
     "text": [
      "HPG ARIMA Model - MSE: 40403386.800679445, MAPE: 0.19438488530777356, R2: -0.6024521579460318\n",
      "MWG ARIMA Model - MSE: 1237063480.4639187, MAPE: 0.6209074289353598, R2: -7.411211635582825\n"
     ]
    }
   ],
   "source": [
    "from sklearn.metrics import mean_squared_error, mean_absolute_percentage_error, r2_score\n",
    "\n",
    "# Function to evaluate model predictions\n",
    "def evaluate_model(test, predictions):\n",
    "    mse = mean_squared_error(test, predictions)\n",
    "    mape = mean_absolute_percentage_error(test, predictions)\n",
    "    r2 = r2_score(test, predictions)\n",
    "    return mse, mape, r2\n",
    "\n",
    "# Evaluate ARIMA model for HPG\n",
    "hpg_mse, hpg_mape, hpg_r2 = evaluate_model(test_hpg['Price'], hpg_predictions)\n",
    "print(f\"HPG ARIMA Model - MSE: {hpg_mse}, MAPE: {hpg_mape}, R2: {hpg_r2}\")\n",
    "\n",
    "# Evaluate ARIMA model for MWG\n",
    "mwg_mse, mwg_mape, mwg_r2 = evaluate_model(test_mwg['Price'], mwg_predictions)\n",
    "print(f\"MWG ARIMA Model - MSE: {mwg_mse}, MAPE: {mwg_mape}, R2: {mwg_r2}\")"
   ]
  },
  {
   "cell_type": "markdown",
   "metadata": {},
   "source": [
    "# LSTM Model\n",
    "### Data Scaling"
   ]
  },
  {
   "cell_type": "code",
   "execution_count": null,
   "metadata": {},
   "outputs": [],
   "source": [
    "import numpy as np\n",
    "from sklearn.preprocessing import MinMaxScaler\n",
    "\n",
    "# Function to scale data\n",
    "def scale_data(train, test):\n",
    "    scaler = MinMaxScaler(feature_range=(0, 1))\n",
    "    train_scaled = scaler.fit_transform(train.values.reshape(-1, 1))\n",
    "    test_scaled = scaler.transform(test.values.reshape(-1, 1))\n",
    "    return scaler, train_scaled, test_scaled\n",
    "\n",
    "# Scale the data for HPG and MWG\n",
    "hpg_scaler, train_hpg_scaled, test_hpg_scaled = scale_data(train_hpg['Price'], test_hpg['Price'])\n",
    "mwg_scaler, train_mwg_scaled, test_mwg_scaled = scale_data(train_mwg['Price'], test_mwg['Price'])"
   ]
  },
  {
   "cell_type": "markdown",
   "metadata": {},
   "source": [
    "### Model Training and Prediction"
   ]
  },
  {
   "cell_type": "code",
   "execution_count": null,
   "metadata": {},
   "outputs": [],
   "source": [
    "import tensorflow as tf\n",
    "from tensorflow.keras.models import Sequential\n",
    "from tensorflow.keras.layers import Dense, LSTM\n",
    "\n",
    "# Function to create and train LSTM model\n",
    "def train_lstm(train_scaled, test_scaled, epochs=100, batch_size=1):\n",
    "    # Prepare the data for LSTM\n",
    "    X_train, y_train = [], []\n",
    "    for i in range(1, len(train_scaled)):\n",
    "        X_train.append(train_scaled[i-1:i, 0])\n",
    "        y_train.append(train_scaled[i, 0])\n",
    "    X_train, y_train = np.array(X_train), np.array(y_train)\n",
    "    X_train = X_train.reshape((X_train.shape[0], X_train.shape[1], 1))\n",
    "\n",
    "    # Build LSTM model\n",
    "    model = Sequential()\n",
    "    model.add(LSTM(50, return_sequences=True, input_shape=(X_train.shape[1], 1)))\n",
    "    model.add(LSTM(50))\n",
    "    model.add(Dense(1))\n",
    "    model.compile(loss='mean_squared_error', optimizer='adam')\n",
    "\n",
    "    # Train the model\n",
    "    model.fit(X_train, y_train, epochs=epochs, batch_size=batch_size, verbose=2)\n",
    "\n",
    "    # Make predictions\n",
    "    X_test = []\n",
    "    for i in range(1, len(test_scaled)):\n",
    "        X_test.append(test_scaled[i-1:i, 0])\n",
    "    X_test = np.array(X_test)\n",
    "    X_test = X_test.reshape((X_test.shape[0], X_test.shape[1], 1))\n",
    "    predictions = model.predict(X_test)\n",
    "    return model, predictions\n",
    "\n",
    "# Train LSTM model and make predictions for HPG\n",
    "hpg_model, hpg_predictions_scaled = train_lstm(train_hpg_scaled, test_hpg_scaled)\n",
    "\n",
    "# Train LSTM model and make predictions for MWG\n",
    "mwg_model, mwg_predictions_scaled = train_lstm(train_mwg_scaled, test_mwg_scaled)\n",
    "\n",
    "# Inverse transform predictions\n",
    "hpg_predictions = hpg_scaler.inverse_transform(hpg_predictions_scaled)\n",
    "mwg_predictions = mwg_scaler.inverse_transform(mwg_predictions_scaled)\n",
    "\n",
    "# Save predictions to CSV\n",
    "np.savetxt('hpg_lstm_predictions.csv', hpg_predictions, delimiter=',')\n",
    "np.savetxt('mwg_lstm_predictions.csv', mwg_predictions, delimiter=',')"
   ]
  },
  {
   "cell_type": "markdown",
   "metadata": {},
   "source": [
    "### Evaluation"
   ]
  },
  {
   "cell_type": "code",
   "execution_count": null,
   "metadata": {},
   "outputs": [],
   "source": [
    "# Evaluate LSTM model for HPG\n",
    "hpg_mse, hpg_mape, hpg_r2 = evaluate_model(test_hpg['Price'].values[1:], hpg_predictions)\n",
    "print(f\"HPG LSTM Model - MSE: {hpg_mse}, MAPE: {hpg_mape}, R2: {hpg_r2}\")\n",
    "\n",
    "# Evaluate LSTM model for MWG\n",
    "mwg_mse, mwg_mape, mwg_r2 = evaluate_model(test_mwg['Price'].values[1:], mwg_predictions)\n",
    "print(f\"MWG LSTM Model - MSE: {mwg_mse}, MAPE: {mwg_mape}, R2: {mwg_r2}\")"
   ]
  }
 ],
 "metadata": {
  "kernelspec": {
   "display_name": "Python 3",
   "language": "python",
   "name": "python3"
  },
  "language_info": {
   "codemirror_mode": {
    "name": "ipython",
    "version": 3
   },
   "file_extension": ".py",
   "mimetype": "text/x-python",
   "name": "python",
   "nbconvert_exporter": "python",
   "pygments_lexer": "ipython3",
   "version": "3.11.4"
  }
 },
 "nbformat": 4,
 "nbformat_minor": 2
}
